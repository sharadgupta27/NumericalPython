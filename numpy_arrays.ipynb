{
  "nbformat": 4,
  "nbformat_minor": 0,
  "metadata": {
    "anaconda-cloud": {},
    "kernelspec": {
      "display_name": "Python 3",
      "language": "python",
      "name": "python3"
    },
    "language_info": {
      "codemirror_mode": {
        "name": "ipython",
        "version": 3
      },
      "file_extension": ".py",
      "mimetype": "text/x-python",
      "name": "python",
      "nbconvert_exporter": "python",
      "pygments_lexer": "ipython3",
      "version": "3.7.6"
    },
    "colab": {
      "name": "numpy_arrays.ipynb",
      "provenance": [],
      "include_colab_link": true
    }
  },
  "cells": [
    {
      "cell_type": "markdown",
      "metadata": {
        "id": "view-in-github",
        "colab_type": "text"
      },
      "source": [
        "<a href=\"https://colab.research.google.com/github/sharadgupta27/NumericalPython/blob/main/numpy_arrays.ipynb\" target=\"_parent\"><img src=\"https://colab.research.google.com/assets/colab-badge.svg\" alt=\"Open In Colab\"/></a>"
      ]
    },
    {
      "cell_type": "markdown",
      "metadata": {
        "id": "s5qQkqlRd9l2"
      },
      "source": [
        "# Numpy Arrays"
      ]
    },
    {
      "cell_type": "markdown",
      "metadata": {
        "id": "HUQGhhISd9md"
      },
      "source": [
        "We'll import the `numpy` module using the short form `np` to save us typing. "
      ]
    },
    {
      "cell_type": "code",
      "metadata": {
        "id": "OEbVscjRd9mf"
      },
      "source": [
        "import numpy as np # imports a fast numerical programming library"
      ],
      "execution_count": 2,
      "outputs": []
    },
    {
      "cell_type": "markdown",
      "metadata": {
        "id": "TdD4gCFMd9mh"
      },
      "source": [
        "![](https://github.com/sharadgupta27/NumericalPython/blob/main/numpy_arrays.slides.dir/2.png?raw=1)"
      ]
    },
    {
      "cell_type": "markdown",
      "metadata": {
        "id": "GObojKCfd9mi"
      },
      "source": [
        "## Starting up with numpy arrays\n",
        "\n",
        "Scientific Python code uses a fast array structure, called the numpy array. Those who have worked in Matlab will find this very natural.   For reference, the numpy documention can be found [here](https://docs.scipy.org/doc/numpy/reference/).  \n",
        "\n",
        "Let's make a numpy array."
      ]
    },
    {
      "cell_type": "code",
      "metadata": {
        "id": "L-mZ3CJyd9mj",
        "outputId": "9ed4c960-d1c4-4c19-808e-2fb21c327ebf",
        "colab": {
          "base_uri": "https://localhost:8080/"
        }
      },
      "source": [
        "my_array = np.array([1, 2, 3, 4])\n",
        "my_array"
      ],
      "execution_count": 3,
      "outputs": [
        {
          "output_type": "execute_result",
          "data": {
            "text/plain": [
              "array([1, 2, 3, 4])"
            ]
          },
          "metadata": {
            "tags": []
          },
          "execution_count": 3
        }
      ]
    },
    {
      "cell_type": "markdown",
      "metadata": {
        "id": "fpI60C-yd9mp"
      },
      "source": [
        "Numpy arrays are listy! Below we compute length, slice, and iterate. "
      ]
    },
    {
      "cell_type": "code",
      "metadata": {
        "id": "ilMfwCFod9mu",
        "outputId": "e809ade0-f3bb-4f84-acd8-3ee23adb68f4",
        "colab": {
          "base_uri": "https://localhost:8080/"
        }
      },
      "source": [
        "print(len(my_array))\n",
        "print(my_array[2:4])\n",
        "for ele in my_array:\n",
        "    print(ele)"
      ],
      "execution_count": 4,
      "outputs": [
        {
          "output_type": "stream",
          "text": [
            "4\n",
            "[3 4]\n",
            "1\n",
            "2\n",
            "3\n",
            "4\n"
          ],
          "name": "stdout"
        }
      ]
    },
    {
      "cell_type": "markdown",
      "metadata": {
        "id": "HW5-iibld9mv"
      },
      "source": [
        "**However, in general you should manipulate numpy arrays by using numpy module functions** (`np.mean`, for example). This is for efficiency purposes, see the Vanderplas book. But briefly:\n",
        "\n",
        "1. numpy arrays are typed, you keep ints together or floats together. They are not meant to combine objects of different types like python lists do.\n",
        "2. numpy arrays are defined in the C language. You do not have to convert between python floats and C floats for example. Python types are different from the corresponding C-types because Python is garbage collected.\n",
        "\n",
        "You can calculate the mean of the array elements either by calling the method `.mean` on a numpy array or by applying the function np.mean with the numpy array as an argument."
      ]
    },
    {
      "cell_type": "code",
      "metadata": {
        "id": "aSfjunRDd9mw",
        "outputId": "6ccd1e41-646e-40ae-ad7e-44d104088a22",
        "colab": {
          "base_uri": "https://localhost:8080/"
        }
      },
      "source": [
        "print(my_array.mean())\n",
        "print(np.mean(my_array))"
      ],
      "execution_count": 5,
      "outputs": [
        {
          "output_type": "stream",
          "text": [
            "2.5\n",
            "2.5\n"
          ],
          "name": "stdout"
        }
      ]
    },
    {
      "cell_type": "markdown",
      "metadata": {
        "id": "aG22kUvUd9mx"
      },
      "source": [
        "The way we constructed the numpy array above seems redundant..after all we already had a regular python list. Indeed, it is the other ways we have to construct numpy arrays that make them super useful. \n",
        "\n",
        "There are many such numpy array *constructors*. Here are some commonly used constructors. Look them up in the documentation."
      ]
    },
    {
      "cell_type": "code",
      "metadata": {
        "id": "R0utMx4ad9my",
        "outputId": "fae58a82-5706-466f-b930-7c9e71c13d10",
        "colab": {
          "base_uri": "https://localhost:8080/"
        }
      },
      "source": [
        "np.ones(10) # generates 10 floating point ones"
      ],
      "execution_count": 6,
      "outputs": [
        {
          "output_type": "execute_result",
          "data": {
            "text/plain": [
              "array([1., 1., 1., 1., 1., 1., 1., 1., 1., 1.])"
            ]
          },
          "metadata": {
            "tags": []
          },
          "execution_count": 6
        }
      ]
    },
    {
      "cell_type": "markdown",
      "metadata": {
        "id": "vTos0xyVd9mz"
      },
      "source": [
        "**Numpy gains a lot of its efficiency from being typed**. That is, all elements in the array have the same type, such as integer or floating point. The default type, as can be seen above, is a float of size appropriate for the machine (64 bit on a 64 bit machine)."
      ]
    },
    {
      "cell_type": "code",
      "metadata": {
        "id": "1mdNb3old9mz",
        "outputId": "02694694-7b50-4f95-f203-aab340457436",
        "colab": {
          "base_uri": "https://localhost:8080/"
        }
      },
      "source": [
        "np.dtype(float).itemsize # in bytes"
      ],
      "execution_count": 7,
      "outputs": [
        {
          "output_type": "execute_result",
          "data": {
            "text/plain": [
              "8"
            ]
          },
          "metadata": {
            "tags": []
          },
          "execution_count": 7
        }
      ]
    },
    {
      "cell_type": "code",
      "metadata": {
        "id": "e0rISGkDd9m1",
        "outputId": "5c61b815-d9cb-4736-8f98-8e1ac8cea251",
        "colab": {
          "base_uri": "https://localhost:8080/"
        }
      },
      "source": [
        "np.ones(10, dtype='int') # generates 10 integer ones"
      ],
      "execution_count": 8,
      "outputs": [
        {
          "output_type": "execute_result",
          "data": {
            "text/plain": [
              "array([1, 1, 1, 1, 1, 1, 1, 1, 1, 1])"
            ]
          },
          "metadata": {
            "tags": []
          },
          "execution_count": 8
        }
      ]
    },
    {
      "cell_type": "code",
      "metadata": {
        "id": "bu6nWMzcd9m4",
        "outputId": "509b2cbe-773f-46e3-ab8a-d7554ac237db",
        "colab": {
          "base_uri": "https://localhost:8080/"
        }
      },
      "source": [
        "np.ones(10).dtype"
      ],
      "execution_count": 9,
      "outputs": [
        {
          "output_type": "execute_result",
          "data": {
            "text/plain": [
              "dtype('float64')"
            ]
          },
          "metadata": {
            "tags": []
          },
          "execution_count": 9
        }
      ]
    },
    {
      "cell_type": "markdown",
      "metadata": {
        "id": "gJsmaXmEd9m6"
      },
      "source": [
        "## Numpy supports vector operations\n",
        "\n",
        "What does this mean? It means that instead of adding two arrays, element by element, you can just say: add the two arrays. Note that this behavior is very different from python lists.\n",
        "\n",
        "![](https://github.com/sharadgupta27/NumericalPython/blob/main/numpy_arrays.slides.dir/3.png?raw=1)"
      ]
    },
    {
      "cell_type": "code",
      "metadata": {
        "id": "Bwz8CLVQd9m7",
        "outputId": "34f33d23-5973-44fa-cf30-3b38033b3d38",
        "colab": {
          "base_uri": "https://localhost:8080/"
        }
      },
      "source": [
        "first = np.ones(5)\n",
        "second = np.ones(5)\n",
        "first + second"
      ],
      "execution_count": 10,
      "outputs": [
        {
          "output_type": "execute_result",
          "data": {
            "text/plain": [
              "array([2., 2., 2., 2., 2.])"
            ]
          },
          "metadata": {
            "tags": []
          },
          "execution_count": 10
        }
      ]
    },
    {
      "cell_type": "code",
      "metadata": {
        "id": "mI0F_Fytd9m8",
        "outputId": "47ec960d-a27a-4cd6-d677-5676d5d93b7a",
        "colab": {
          "base_uri": "https://localhost:8080/"
        }
      },
      "source": [
        "first_list = [1., 1., 1., 1., 1.]\n",
        "second_list = [1., 1., 1., 1., 1.]\n",
        "first_list + second_list #not what u want"
      ],
      "execution_count": 11,
      "outputs": [
        {
          "output_type": "execute_result",
          "data": {
            "text/plain": [
              "[1.0, 1.0, 1.0, 1.0, 1.0, 1.0, 1.0, 1.0, 1.0, 1.0]"
            ]
          },
          "metadata": {
            "tags": []
          },
          "execution_count": 11
        }
      ]
    },
    {
      "cell_type": "markdown",
      "metadata": {
        "id": "A7ueWqz-d9m9"
      },
      "source": [
        "On some computer chips this addition actually happens in parallel, so speedups can be high. But even on regular chips, the advantage of greater readability is important."
      ]
    },
    {
      "cell_type": "markdown",
      "metadata": {
        "id": "J2WNPvvwd9m-"
      },
      "source": [
        "Numpy supports a concept known as *broadcasting*, which dictates how arrays of different sizes are combined together. There are too many rules to list here, but importantly, multiplying an array by a number multiplies each element by the number. Adding a number adds the number to each element."
      ]
    },
    {
      "cell_type": "code",
      "metadata": {
        "id": "GmLBnv4Ud9m_",
        "outputId": "b394710c-f35b-48c4-9f39-6f2662fe8220",
        "colab": {
          "base_uri": "https://localhost:8080/"
        }
      },
      "source": [
        "first + 1"
      ],
      "execution_count": 12,
      "outputs": [
        {
          "output_type": "execute_result",
          "data": {
            "text/plain": [
              "array([2., 2., 2., 2., 2.])"
            ]
          },
          "metadata": {
            "tags": []
          },
          "execution_count": 12
        }
      ]
    },
    {
      "cell_type": "code",
      "metadata": {
        "id": "FFB8w-Pxd9nA",
        "outputId": "6580f8a4-9fbf-4bb7-deb6-83b61b418479",
        "colab": {
          "base_uri": "https://localhost:8080/"
        }
      },
      "source": [
        "first*5"
      ],
      "execution_count": 14,
      "outputs": [
        {
          "output_type": "execute_result",
          "data": {
            "text/plain": [
              "array([5., 5., 5., 5., 5.])"
            ]
          },
          "metadata": {
            "tags": []
          },
          "execution_count": 14
        }
      ]
    },
    {
      "cell_type": "markdown",
      "metadata": {
        "id": "FkuhCbE1d9nB"
      },
      "source": [
        "## 2D arrays\n",
        "\n",
        "Similarly, we can create two-dimensional arrays.\n",
        "\n",
        "![](https://github.com/sharadgupta27/NumericalPython/blob/main/numpy_arrays.slides.dir/6.png?raw=1)"
      ]
    },
    {
      "cell_type": "code",
      "metadata": {
        "id": "6XIk5T7ad9nC",
        "outputId": "961eb450-1296-41ea-be8a-2d8cbf910a66",
        "colab": {
          "base_uri": "https://localhost:8080/"
        }
      },
      "source": [
        "my_array2d = np.array([ [1, 2, 3, 4], [5, 6, 7, 8], [9, 10, 11, 12] ])\n",
        "my_array2d"
      ],
      "execution_count": 16,
      "outputs": [
        {
          "output_type": "execute_result",
          "data": {
            "text/plain": [
              "array([[ 1,  2,  3,  4],\n",
              "       [ 5,  6,  7,  8],\n",
              "       [ 9, 10, 11, 12]])"
            ]
          },
          "metadata": {
            "tags": []
          },
          "execution_count": 16
        }
      ]
    },
    {
      "cell_type": "code",
      "metadata": {
        "id": "oxwcH9B6d9nD",
        "outputId": "e49c249f-e905-498c-b00b-175039c9dccc",
        "colab": {
          "base_uri": "https://localhost:8080/"
        }
      },
      "source": [
        "# 3 x 4 array of ones\n",
        "ones_2d = np.ones([3, 4])\n",
        "ones_2d"
      ],
      "execution_count": 17,
      "outputs": [
        {
          "output_type": "execute_result",
          "data": {
            "text/plain": [
              "array([[1., 1., 1., 1.],\n",
              "       [1., 1., 1., 1.],\n",
              "       [1., 1., 1., 1.]])"
            ]
          },
          "metadata": {
            "tags": []
          },
          "execution_count": 17
        }
      ]
    },
    {
      "cell_type": "markdown",
      "metadata": {
        "id": "FLOrpT3wd9nH"
      },
      "source": [
        "Like lists, numpy arrays are 0-indexed.  Thus we can access the $n$th row and the $m$th column of a two-dimensional array with the indices $[n - 1, m - 1]$."
      ]
    },
    {
      "cell_type": "code",
      "metadata": {
        "id": "DpFT-KJcd9nI",
        "outputId": "1da2345c-a784-455f-f92b-b91884ea6aeb",
        "colab": {
          "base_uri": "https://localhost:8080/"
        }
      },
      "source": [
        "print(my_array2d)\n",
        "my_array2d[2, 3]"
      ],
      "execution_count": 18,
      "outputs": [
        {
          "output_type": "stream",
          "text": [
            "[[ 1  2  3  4]\n",
            " [ 5  6  7  8]\n",
            " [ 9 10 11 12]]\n"
          ],
          "name": "stdout"
        },
        {
          "output_type": "execute_result",
          "data": {
            "text/plain": [
              "12"
            ]
          },
          "metadata": {
            "tags": []
          },
          "execution_count": 18
        }
      ]
    },
    {
      "cell_type": "markdown",
      "metadata": {
        "id": "eb2Q1Z3Jd9nJ"
      },
      "source": [
        "The 2D arrays are listy as well. They have set length (array dimensions), can be sliced, and can be iterated over with loop.  Below is a schematic illustrating slicing two-dimensional arrays.  \n",
        "\n",
        " <img src=\"https://github.com/sharadgupta27/NumericalPython/blob/main/images/2dindex_v2.png?raw=1\" alt=\"Drawing\" style=\"width: 500px;\"/>"
      ]
    },
    {
      "cell_type": "markdown",
      "metadata": {
        "id": "YqGyGJygd9nL"
      },
      "source": [
        "In two dimensions, we need to provide the **shape** of the array, ie, the number of rows and columns of the array."
      ]
    },
    {
      "cell_type": "code",
      "metadata": {
        "id": "f2QylJjld9nM",
        "outputId": "42ba7544-0ac0-4dc5-fa96-58e79ed72159",
        "colab": {
          "base_uri": "https://localhost:8080/"
        }
      },
      "source": [
        "onesarray = np.ones([3,4])\n",
        "onesarray"
      ],
      "execution_count": 19,
      "outputs": [
        {
          "output_type": "execute_result",
          "data": {
            "text/plain": [
              "array([[1., 1., 1., 1.],\n",
              "       [1., 1., 1., 1.],\n",
              "       [1., 1., 1., 1.]])"
            ]
          },
          "metadata": {
            "tags": []
          },
          "execution_count": 19
        }
      ]
    },
    {
      "cell_type": "code",
      "metadata": {
        "id": "dK-_dqlyd9nN",
        "outputId": "93671769-1ed7-4497-ab24-811c7f673ddb",
        "colab": {
          "base_uri": "https://localhost:8080/"
        }
      },
      "source": [
        "onesarray.shape"
      ],
      "execution_count": 20,
      "outputs": [
        {
          "output_type": "execute_result",
          "data": {
            "text/plain": [
              "(3, 4)"
            ]
          },
          "metadata": {
            "tags": []
          },
          "execution_count": 20
        }
      ]
    },
    {
      "cell_type": "markdown",
      "metadata": {
        "id": "swgITHeud9nO"
      },
      "source": [
        "Numpy functions will by default work on the entire array:"
      ]
    },
    {
      "cell_type": "code",
      "metadata": {
        "id": "hVdc6hYLd9nP",
        "outputId": "7ce2da72-264c-4efa-f884-2f1c0c52065b",
        "colab": {
          "base_uri": "https://localhost:8080/"
        }
      },
      "source": [
        "np.sum(onesarray)"
      ],
      "execution_count": 21,
      "outputs": [
        {
          "output_type": "execute_result",
          "data": {
            "text/plain": [
              "12.0"
            ]
          },
          "metadata": {
            "tags": []
          },
          "execution_count": 21
        }
      ]
    },
    {
      "cell_type": "markdown",
      "metadata": {
        "id": "NTbKsgaHd9nQ"
      },
      "source": [
        "The axis 0 is the one going downwards (the $y$-axis, so to speak), whereas axis 1 is the one going across (the $x$-axis). You will often use functions such as `mean`, `sum`, with an axis."
      ]
    },
    {
      "cell_type": "code",
      "metadata": {
        "id": "AcDOooK0d9nQ",
        "outputId": "b7bf9cbe-61d0-4ff5-e084-caa136a4c162",
        "colab": {
          "base_uri": "https://localhost:8080/"
        }
      },
      "source": [
        "np.sum(onesarray, axis=0)"
      ],
      "execution_count": 22,
      "outputs": [
        {
          "output_type": "execute_result",
          "data": {
            "text/plain": [
              "array([3., 3., 3., 3.])"
            ]
          },
          "metadata": {
            "tags": []
          },
          "execution_count": 22
        }
      ]
    },
    {
      "cell_type": "code",
      "metadata": {
        "id": "qYXnlNAgiWJc",
        "outputId": "c8a21b97-f8ea-4e69-a8be-081af414ad63",
        "colab": {
          "base_uri": "https://localhost:8080/"
        }
      },
      "source": [
        "np.sum(onesarray, axis=1)"
      ],
      "execution_count": 23,
      "outputs": [
        {
          "output_type": "execute_result",
          "data": {
            "text/plain": [
              "array([4., 4., 4.])"
            ]
          },
          "metadata": {
            "tags": []
          },
          "execution_count": 23
        }
      ]
    },
    {
      "cell_type": "code",
      "metadata": {
        "id": "1Ka5z0XNd9nR",
        "outputId": "328d3b6d-106f-4651-ca31-1c4142d7d8d6",
        "colab": {
          "base_uri": "https://localhost:8080/"
        }
      },
      "source": [
        "np.sum(my_array2d, axis=0)"
      ],
      "execution_count": 24,
      "outputs": [
        {
          "output_type": "execute_result",
          "data": {
            "text/plain": [
              "array([15, 18, 21, 24])"
            ]
          },
          "metadata": {
            "tags": []
          },
          "execution_count": 24
        }
      ]
    },
    {
      "cell_type": "code",
      "metadata": {
        "id": "9YLnXyeGd9nS",
        "outputId": "8ac139fa-f974-416c-e6bf-27e5dc2fd9ee",
        "colab": {
          "base_uri": "https://localhost:8080/"
        }
      },
      "source": [
        "np.sum(onesarray, axis=1)"
      ],
      "execution_count": 25,
      "outputs": [
        {
          "output_type": "execute_result",
          "data": {
            "text/plain": [
              "array([4., 4., 4.])"
            ]
          },
          "metadata": {
            "tags": []
          },
          "execution_count": 25
        }
      ]
    },
    {
      "cell_type": "markdown",
      "metadata": {
        "id": "Wrzr7khtd9nS"
      },
      "source": [
        "You should notice that access is row-by-row and one dimensional iteration gives a row. This is because `numpy` lays out memory row-wise.\n",
        "\n",
        "![](https://github.com/sharadgupta27/NumericalPython/blob/main/images/2d-array-layout.png?raw=1)\n",
        "\n",
        "(from https://aaronbloomfield.github.io)"
      ]
    },
    {
      "cell_type": "markdown",
      "metadata": {
        "id": "f9NrSsWcd9nT"
      },
      "source": [
        "An often seen idiom allocates a two-dimensional array, and then fills in one-dimensional arrays from some function:"
      ]
    },
    {
      "cell_type": "code",
      "metadata": {
        "id": "xwIyXxQ9d9nT",
        "outputId": "958bd2a9-0b24-47bf-c3c9-bf7ce58475b7",
        "colab": {
          "base_uri": "https://localhost:8080/"
        }
      },
      "source": [
        "empty_array = np.empty((2,3))\n",
        "empty_array"
      ],
      "execution_count": 28,
      "outputs": [
        {
          "output_type": "execute_result",
          "data": {
            "text/plain": [
              "array([[1.94463685e-316, 0.00000000e+000, 0.00000000e+000],\n",
              "       [0.00000000e+000, 0.00000000e+000, 0.00000000e+000]])"
            ]
          },
          "metadata": {
            "tags": []
          },
          "execution_count": 28
        }
      ]
    },
    {
      "cell_type": "code",
      "metadata": {
        "id": "xvQ0JtyHjAAf",
        "outputId": "cf32b631-86b3-41c7-cf15-49d52fd221cc",
        "colab": {
          "base_uri": "https://localhost:8080/"
        }
      },
      "source": [
        "empty_array.shape"
      ],
      "execution_count": 29,
      "outputs": [
        {
          "output_type": "execute_result",
          "data": {
            "text/plain": [
              "(2, 3)"
            ]
          },
          "metadata": {
            "tags": []
          },
          "execution_count": 29
        }
      ]
    },
    {
      "cell_type": "code",
      "metadata": {
        "id": "4fEzVd_Ld9nU",
        "outputId": "48d99017-d511-481b-ecc2-78f611b76f92",
        "colab": {
          "base_uri": "https://localhost:8080/"
        }
      },
      "source": [
        "for i in range(empty_array.shape[0]):\n",
        "    print(empty_array[i])"
      ],
      "execution_count": 30,
      "outputs": [
        {
          "output_type": "stream",
          "text": [
            "[1.94463685e-316 0.00000000e+000 0.00000000e+000]\n",
            "[0. 0. 0.]\n"
          ],
          "name": "stdout"
        }
      ]
    },
    {
      "cell_type": "code",
      "metadata": {
        "id": "WwdjK-8Hd9nW",
        "outputId": "854690db-185c-4d28-ef7a-f1c55089c1d4"
      },
      "source": [
        "for i in range(empty_array.shape[0]):\n",
        "    empty_array[i] = np.random.rand(3)\n",
        "empty_array"
      ],
      "execution_count": null,
      "outputs": [
        {
          "output_type": "execute_result",
          "data": {
            "text/plain": [
              "array([[0.68625855, 0.09451053, 0.9559449 ],\n",
              "       [0.03386545, 0.08089574, 0.84962253]])"
            ]
          },
          "metadata": {
            "tags": []
          },
          "execution_count": 29
        }
      ]
    },
    {
      "cell_type": "markdown",
      "metadata": {
        "id": "he4gPqZ2d9nY"
      },
      "source": [
        "## Pandas and numpy\n",
        "\n",
        "You can very easily convert from Pandas to numpy. Just use the `.values` attribute on a pandas dataframe or series."
      ]
    },
    {
      "cell_type": "code",
      "metadata": {
        "id": "l8A8hETgd9nY",
        "outputId": "354c88a3-602c-4070-82e0-5744f209098f"
      },
      "source": [
        "import pandas as pd\n",
        "combined = pd.read_csv('data/combined_population_votes.csv')\n",
        "combined.head()"
      ],
      "execution_count": null,
      "outputs": [
        {
          "output_type": "execute_result",
          "data": {
            "text/html": [
              "<div>\n",
              "<style scoped>\n",
              "    .dataframe tbody tr th:only-of-type {\n",
              "        vertical-align: middle;\n",
              "    }\n",
              "\n",
              "    .dataframe tbody tr th {\n",
              "        vertical-align: top;\n",
              "    }\n",
              "\n",
              "    .dataframe thead th {\n",
              "        text-align: right;\n",
              "    }\n",
              "</style>\n",
              "<table border=\"1\" class=\"dataframe\">\n",
              "  <thead>\n",
              "    <tr style=\"text-align: right;\">\n",
              "      <th></th>\n",
              "      <th>State</th>\n",
              "      <th>Population</th>\n",
              "      <th>Votes</th>\n",
              "      <th>popmills</th>\n",
              "    </tr>\n",
              "  </thead>\n",
              "  <tbody>\n",
              "    <tr>\n",
              "      <th>0</th>\n",
              "      <td>Alaska</td>\n",
              "      <td>710000</td>\n",
              "      <td>3</td>\n",
              "      <td>0.710</td>\n",
              "    </tr>\n",
              "    <tr>\n",
              "      <th>1</th>\n",
              "      <td>Alabama</td>\n",
              "      <td>4780000</td>\n",
              "      <td>9</td>\n",
              "      <td>4.780</td>\n",
              "    </tr>\n",
              "    <tr>\n",
              "      <th>2</th>\n",
              "      <td>Arkansas</td>\n",
              "      <td>2916000</td>\n",
              "      <td>6</td>\n",
              "      <td>2.916</td>\n",
              "    </tr>\n",
              "    <tr>\n",
              "      <th>3</th>\n",
              "      <td>Arizona</td>\n",
              "      <td>6392000</td>\n",
              "      <td>11</td>\n",
              "      <td>6.392</td>\n",
              "    </tr>\n",
              "    <tr>\n",
              "      <th>4</th>\n",
              "      <td>California</td>\n",
              "      <td>37254000</td>\n",
              "      <td>55</td>\n",
              "      <td>37.254</td>\n",
              "    </tr>\n",
              "  </tbody>\n",
              "</table>\n",
              "</div>"
            ],
            "text/plain": [
              "        State  Population  Votes  popmills\n",
              "0      Alaska      710000      3     0.710\n",
              "1     Alabama     4780000      9     4.780\n",
              "2    Arkansas     2916000      6     2.916\n",
              "3     Arizona     6392000     11     6.392\n",
              "4  California    37254000     55    37.254"
            ]
          },
          "metadata": {
            "tags": []
          },
          "execution_count": 30
        }
      ]
    },
    {
      "cell_type": "markdown",
      "metadata": {
        "id": "LdJt1d71d9nZ"
      },
      "source": [
        "For a Series Object:"
      ]
    },
    {
      "cell_type": "code",
      "metadata": {
        "id": "ceDCG5gEd9na",
        "outputId": "0983b2f9-cc21-4362-d65a-f924e680b689"
      },
      "source": [
        "combined.Votes.values"
      ],
      "execution_count": null,
      "outputs": [
        {
          "output_type": "execute_result",
          "data": {
            "text/plain": [
              "array([ 3,  9,  6, 11, 55,  9,  7,  3,  3, 29, 16,  4,  6,  4, 20, 11,  6,\n",
              "        8,  8, 11, 10,  4, 16, 10, 10,  6,  3, 15,  3,  5,  4, 14,  5,  6,\n",
              "       29, 18,  7,  7, 20,  4,  9,  3, 11, 38,  6, 13,  3, 12, 10,  5,  3])"
            ]
          },
          "metadata": {
            "tags": []
          },
          "execution_count": 31
        }
      ]
    },
    {
      "cell_type": "markdown",
      "metadata": {
        "id": "EaQrwszsd9na"
      },
      "source": [
        "For a Dataframe:"
      ]
    },
    {
      "cell_type": "code",
      "metadata": {
        "id": "s3Vl2-OEd9nb",
        "outputId": "34ee332e-df1a-4322-cd1c-c5d860e5f7b0"
      },
      "source": [
        "combined[['popmills', 'Votes']].values"
      ],
      "execution_count": null,
      "outputs": [
        {
          "output_type": "execute_result",
          "data": {
            "text/plain": [
              "array([[ 0.71 ,  3.   ],\n",
              "       [ 4.78 ,  9.   ],\n",
              "       [ 2.916,  6.   ],\n",
              "       [ 6.392, 11.   ],\n",
              "       [37.254, 55.   ],\n",
              "       [ 5.029,  9.   ],\n",
              "       [ 3.574,  7.   ],\n",
              "       [ 0.602,  3.   ],\n",
              "       [ 0.898,  3.   ],\n",
              "       [18.801, 29.   ],\n",
              "       [ 9.688, 16.   ],\n",
              "       [ 1.36 ,  4.   ],\n",
              "       [ 3.046,  6.   ],\n",
              "       [ 1.568,  4.   ],\n",
              "       [12.831, 20.   ],\n",
              "       [ 6.484, 11.   ],\n",
              "       [ 2.853,  6.   ],\n",
              "       [ 4.339,  8.   ],\n",
              "       [ 4.533,  8.   ],\n",
              "       [ 6.548, 11.   ],\n",
              "       [ 5.774, 10.   ],\n",
              "       [ 1.328,  4.   ],\n",
              "       [ 9.884, 16.   ],\n",
              "       [ 5.304, 10.   ],\n",
              "       [ 5.989, 10.   ],\n",
              "       [ 2.967,  6.   ],\n",
              "       [ 0.989,  3.   ],\n",
              "       [ 9.535, 15.   ],\n",
              "       [ 0.673,  3.   ],\n",
              "       [ 1.826,  5.   ],\n",
              "       [ 1.316,  4.   ],\n",
              "       [ 8.792, 14.   ],\n",
              "       [ 2.059,  5.   ],\n",
              "       [ 2.701,  6.   ],\n",
              "       [19.378, 29.   ],\n",
              "       [11.537, 18.   ],\n",
              "       [ 3.751,  7.   ],\n",
              "       [ 3.831,  7.   ],\n",
              "       [12.702, 20.   ],\n",
              "       [ 1.053,  4.   ],\n",
              "       [ 4.625,  9.   ],\n",
              "       [ 0.814,  3.   ],\n",
              "       [ 6.346, 11.   ],\n",
              "       [25.146, 38.   ],\n",
              "       [ 2.764,  6.   ],\n",
              "       [ 8.001, 13.   ],\n",
              "       [ 0.626,  3.   ],\n",
              "       [ 6.725, 12.   ],\n",
              "       [ 5.687, 10.   ],\n",
              "       [ 1.853,  5.   ],\n",
              "       [ 0.564,  3.   ]])"
            ]
          },
          "metadata": {
            "tags": []
          },
          "execution_count": 32
        }
      ]
    },
    {
      "cell_type": "markdown",
      "metadata": {
        "id": "Ih2nUjuOd9nc"
      },
      "source": [
        "Using `values` then gives us a multi-dimensional numpy array (notice how the ints are cast to floats to keep the data types the same)."
      ]
    }
  ]
}